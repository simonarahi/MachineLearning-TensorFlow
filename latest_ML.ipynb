{
  "nbformat": 4,
  "nbformat_minor": 0,
  "metadata": {
    "colab": {
      "name": "latest-ML.ipynb",
      "provenance": [],
      "collapsed_sections": [],
      "authorship_tag": "ABX9TyNFkOGAcKCKn8R3NILHxQLd",
      "include_colab_link": true
    },
    "kernelspec": {
      "name": "python3",
      "display_name": "Python 3"
    },
    "accelerator": "GPU"
  },
  "cells": [
    {
      "cell_type": "markdown",
      "metadata": {
        "id": "view-in-github",
        "colab_type": "text"
      },
      "source": [
        "<a href=\"https://colab.research.google.com/github/simonarahi/MachineLearning-TensorFlow/blob/master/latest_ML.ipynb\" target=\"_parent\"><img src=\"https://colab.research.google.com/assets/colab-badge.svg\" alt=\"Open In Colab\"/></a>"
      ]
    },
    {
      "cell_type": "markdown",
      "metadata": {
        "id": "TAKDmAedGHOU",
        "colab_type": "text"
      },
      "source": [
        "# Simona Rahi\n",
        "# Loading Data and Classifying "
      ]
    },
    {
      "cell_type": "code",
      "metadata": {
        "id": "I9eEvtMbF6iM",
        "colab_type": "code",
        "colab": {}
      },
      "source": [
        "import tensorflow as tf\n",
        "from tensorflow import keras\n",
        "import functools\n",
        "import numpy as np\n",
        "import pandas as pd"
      ],
      "execution_count": 0,
      "outputs": []
    },
    {
      "cell_type": "markdown",
      "metadata": {
        "id": "-9-TFITZ80PF",
        "colab_type": "text"
      },
      "source": [
        "Loading test and train data (each is 50% of data)"
      ]
    },
    {
      "cell_type": "code",
      "metadata": {
        "id": "-_oar1fwHJRf",
        "colab_type": "code",
        "colab": {}
      },
      "source": [
        "data_URL = \"https://raw.githubusercontent.com/simonarahi/MachineLearning-TensorFlow/master/nassCDS.csv\"\n",
        "\n",
        "train_data_URL = \"https://raw.githubusercontent.com/simonarahi/MachineLearning-TensorFlow/master/train.csv\"\n",
        "test_data_URL = \"https://raw.githubusercontent.com/simonarahi/MachineLearning-TensorFlow/master/test.csv\"\n",
        "\n",
        "train_file_path = tf.keras.utils.get_file(\"train.csv\", train_data_URL)\n",
        "test_file_path = tf.keras.utils.get_file(\"test.csv\", test_data_URL)"
      ],
      "execution_count": 0,
      "outputs": []
    },
    {
      "cell_type": "code",
      "metadata": {
        "id": "JdC_7x9G9ZQ-",
        "colab_type": "code",
        "colab": {}
      },
      "source": [
        "np.set_printoptions(precision=3, suppress=True)"
      ],
      "execution_count": 0,
      "outputs": []
    },
    {
      "cell_type": "markdown",
      "metadata": {
        "id": "Wof0hcuW95MP",
        "colab_type": "text"
      },
      "source": [
        "Inspecting the data"
      ]
    },
    {
      "cell_type": "code",
      "metadata": {
        "id": "OkYpF_BY99qC",
        "colab_type": "code",
        "outputId": "8d8005d4-37b2-415f-8052-5a1fd5eab249",
        "colab": {
          "base_uri": "https://localhost:8080/",
          "height": 241
        }
      },
      "source": [
        "df = pd.read_csv(train_file_path)\n",
        "df.head()\n",
        "#df['injSeverity'].min()\n",
        "#df['injSeverity'].max()"
      ],
      "execution_count": 0,
      "outputs": [
        {
          "output_type": "execute_result",
          "data": {
            "text/html": [
              "<div>\n",
              "<style scoped>\n",
              "    .dataframe tbody tr th:only-of-type {\n",
              "        vertical-align: middle;\n",
              "    }\n",
              "\n",
              "    .dataframe tbody tr th {\n",
              "        vertical-align: top;\n",
              "    }\n",
              "\n",
              "    .dataframe thead th {\n",
              "        text-align: right;\n",
              "    }\n",
              "</style>\n",
              "<table border=\"1\" class=\"dataframe\">\n",
              "  <thead>\n",
              "    <tr style=\"text-align: right;\">\n",
              "      <th></th>\n",
              "      <th>Unnamed: 0</th>\n",
              "      <th>X</th>\n",
              "      <th>dvcat</th>\n",
              "      <th>weight</th>\n",
              "      <th>dead</th>\n",
              "      <th>airbag</th>\n",
              "      <th>seatbelt</th>\n",
              "      <th>frontal</th>\n",
              "      <th>sex</th>\n",
              "      <th>ageOFocc</th>\n",
              "      <th>yearacc</th>\n",
              "      <th>yearVeh</th>\n",
              "      <th>abcat</th>\n",
              "      <th>occRole</th>\n",
              "      <th>deploy</th>\n",
              "      <th>injSeverity</th>\n",
              "      <th>caseid</th>\n",
              "    </tr>\n",
              "  </thead>\n",
              "  <tbody>\n",
              "    <tr>\n",
              "      <th>0</th>\n",
              "      <td>1</td>\n",
              "      <td>1</td>\n",
              "      <td>25-39</td>\n",
              "      <td>25.069</td>\n",
              "      <td>alive</td>\n",
              "      <td>none</td>\n",
              "      <td>belted</td>\n",
              "      <td>1</td>\n",
              "      <td>f</td>\n",
              "      <td>26</td>\n",
              "      <td>1997</td>\n",
              "      <td>1990.0</td>\n",
              "      <td>unavail</td>\n",
              "      <td>driver</td>\n",
              "      <td>0</td>\n",
              "      <td>3.0</td>\n",
              "      <td>2:3:1</td>\n",
              "    </tr>\n",
              "    <tr>\n",
              "      <th>1</th>\n",
              "      <td>3</td>\n",
              "      <td>3</td>\n",
              "      <td>10-24</td>\n",
              "      <td>32.379</td>\n",
              "      <td>alive</td>\n",
              "      <td>none</td>\n",
              "      <td>none</td>\n",
              "      <td>1</td>\n",
              "      <td>f</td>\n",
              "      <td>69</td>\n",
              "      <td>1997</td>\n",
              "      <td>1988.0</td>\n",
              "      <td>unavail</td>\n",
              "      <td>driver</td>\n",
              "      <td>0</td>\n",
              "      <td>4.0</td>\n",
              "      <td>2:5:1</td>\n",
              "    </tr>\n",
              "    <tr>\n",
              "      <th>2</th>\n",
              "      <td>6</td>\n",
              "      <td>6</td>\n",
              "      <td>40-54</td>\n",
              "      <td>25.069</td>\n",
              "      <td>alive</td>\n",
              "      <td>none</td>\n",
              "      <td>belted</td>\n",
              "      <td>1</td>\n",
              "      <td>f</td>\n",
              "      <td>22</td>\n",
              "      <td>1997</td>\n",
              "      <td>1985.0</td>\n",
              "      <td>unavail</td>\n",
              "      <td>driver</td>\n",
              "      <td>0</td>\n",
              "      <td>3.0</td>\n",
              "      <td>2:11:2</td>\n",
              "    </tr>\n",
              "    <tr>\n",
              "      <th>3</th>\n",
              "      <td>7</td>\n",
              "      <td>7</td>\n",
              "      <td>55+</td>\n",
              "      <td>27.078</td>\n",
              "      <td>alive</td>\n",
              "      <td>none</td>\n",
              "      <td>belted</td>\n",
              "      <td>1</td>\n",
              "      <td>m</td>\n",
              "      <td>22</td>\n",
              "      <td>1997</td>\n",
              "      <td>1984.0</td>\n",
              "      <td>unavail</td>\n",
              "      <td>driver</td>\n",
              "      <td>0</td>\n",
              "      <td>3.0</td>\n",
              "      <td>2:13:1</td>\n",
              "    </tr>\n",
              "    <tr>\n",
              "      <th>4</th>\n",
              "      <td>9</td>\n",
              "      <td>9</td>\n",
              "      <td>10-24</td>\n",
              "      <td>812.869</td>\n",
              "      <td>alive</td>\n",
              "      <td>none</td>\n",
              "      <td>belted</td>\n",
              "      <td>0</td>\n",
              "      <td>m</td>\n",
              "      <td>40</td>\n",
              "      <td>1997</td>\n",
              "      <td>1984.0</td>\n",
              "      <td>unavail</td>\n",
              "      <td>driver</td>\n",
              "      <td>0</td>\n",
              "      <td>1.0</td>\n",
              "      <td>2:14:1</td>\n",
              "    </tr>\n",
              "  </tbody>\n",
              "</table>\n",
              "</div>"
            ],
            "text/plain": [
              "   Unnamed: 0  X  dvcat   weight  ... occRole deploy injSeverity  caseid\n",
              "0           1  1  25-39   25.069  ...  driver      0         3.0   2:3:1\n",
              "1           3  3  10-24   32.379  ...  driver      0         4.0   2:5:1\n",
              "2           6  6  40-54   25.069  ...  driver      0         3.0  2:11:2\n",
              "3           7  7    55+   27.078  ...  driver      0         3.0  2:13:1\n",
              "4           9  9  10-24  812.869  ...  driver      0         1.0  2:14:1\n",
              "\n",
              "[5 rows x 17 columns]"
            ]
          },
          "metadata": {
            "tags": []
          },
          "execution_count": 24
        }
      ]
    },
    {
      "cell_type": "markdown",
      "metadata": {
        "id": "BWCq1CrFAwL-",
        "colab_type": "text"
      },
      "source": [
        "Specifying column to be classified"
      ]
    },
    {
      "cell_type": "code",
      "metadata": {
        "id": "_Ps8CJ9hA1wo",
        "colab_type": "code",
        "colab": {}
      },
      "source": [
        "LABEL_COLUMN = 'injSeverity'\n",
        "LABELS = [0, 1, 2, 3, 4, 5, 6]"
      ],
      "execution_count": 0,
      "outputs": []
    },
    {
      "cell_type": "markdown",
      "metadata": {
        "id": "TAv9djUYDdtk",
        "colab_type": "text"
      },
      "source": [
        "Read csv data from file and create dataset"
      ]
    },
    {
      "cell_type": "code",
      "metadata": {
        "id": "6k8E1iWFDiQl",
        "colab_type": "code",
        "colab": {}
      },
      "source": [
        "def get_dataset(file_path, **kwargs):\n",
        "  dataset = tf.data.experimental.make_csv_dataset(\n",
        "      file_path,\n",
        "      batch_size=5, # Artificially small to make examples easier to show.\n",
        "      label_name=LABEL_COLUMN,\n",
        "      na_value=\"?\",\n",
        "      select_columns = ['dvcat', 'weight', 'dead', 'airbag', 'seatbelt', 'frontal', 'sex', 'ageOFocc', 'yearacc', 'yearVeh', 'abcat', 'occRole', 'deploy', 'injSeverity'],\n",
        "      num_epochs=1,\n",
        "      ignore_errors=True, \n",
        "      **kwargs)\n",
        "  return dataset\n",
        "\n",
        "raw_train_data = get_dataset(train_file_path)\n",
        "raw_test_data = get_dataset(test_file_path)"
      ],
      "execution_count": 0,
      "outputs": []
    },
    {
      "cell_type": "code",
      "metadata": {
        "id": "f8ahB_IFFl8S",
        "colab_type": "code",
        "outputId": "7765ddac-562f-4d45-b8de-624ebd2bc7c8",
        "colab": {
          "base_uri": "https://localhost:8080/",
          "height": 238
        }
      },
      "source": [
        "def show_batch(dataset):\n",
        "  for batch, label in dataset.take(1):\n",
        "    for key, value in batch.items():\n",
        "      print(\"{:20s}: {}\".format(key,value.numpy()))\n",
        "\n",
        "show_batch(raw_train_data)"
      ],
      "execution_count": 0,
      "outputs": [
        {
          "output_type": "stream",
          "text": [
            "dvcat               : [b'25-39' b'25-39' b'10-24' b'25-39' b'10-24']\n",
            "weight              : [309.351  13.284 299.272 149.546  63.452]\n",
            "dead                : [b'alive' b'alive' b'alive' b'alive' b'alive']\n",
            "airbag              : [b'airbag' b'airbag' b'none' b'none' b'airbag']\n",
            "seatbelt            : [b'belted' b'none' b'belted' b'belted' b'belted']\n",
            "frontal             : [1 0 1 0 1]\n",
            "sex                 : [b'm' b'm' b'f' b'f' b'm']\n",
            "ageOFocc            : [41 19 19 64 19]\n",
            "yearacc             : [1998 1998 1998 1998 1998]\n",
            "yearVeh             : [1996 1999 1983 1992 1998]\n",
            "abcat               : [b'deploy' b'deploy' b'unavail' b'unavail' b'deploy']\n",
            "occRole             : [b'driver' b'driver' b'pass' b'driver' b'pass']\n",
            "deploy              : [1 1 0 0 1]\n"
          ],
          "name": "stdout"
        }
      ]
    },
    {
      "cell_type": "markdown",
      "metadata": {
        "id": "aP8VqQtZF83u",
        "colab_type": "text"
      },
      "source": [
        "# **Data Preprocessing**\n"
      ]
    },
    {
      "cell_type": "markdown",
      "metadata": {
        "id": "O0AxfkQpJjJc",
        "colab_type": "text"
      },
      "source": [
        "Since we have mixed data types, we will start by seperating the numeric features and pack them into one column."
      ]
    },
    {
      "cell_type": "code",
      "metadata": {
        "id": "Dd-j8j3JGcoX",
        "colab_type": "code",
        "colab": {}
      },
      "source": [
        "class PackNumericFeatures(object):\n",
        "  def __init__(self, names):\n",
        "    self.names = names\n",
        "\n",
        "  def __call__(self, features, labels):\n",
        "    numeric_features = [features.pop(name) for name in self.names]\n",
        "    numeric_features = [tf.cast(feat, tf.float32) for feat in numeric_features]\n",
        "    numeric_features = tf.stack(numeric_features, axis=-1)\n",
        "    features['numeric'] = numeric_features\n",
        "\n",
        "    return features, labels"
      ],
      "execution_count": 0,
      "outputs": []
    },
    {
      "cell_type": "code",
      "metadata": {
        "id": "CddZaAp0J3S2",
        "colab_type": "code",
        "colab": {}
      },
      "source": [
        "NUMERIC_FEATURES = ['weight','frontal','ageOFocc', 'yearacc', 'yearVeh', 'deploy']\n",
        "\n",
        "packed_train_data = raw_train_data.map(\n",
        "    PackNumericFeatures(NUMERIC_FEATURES))\n",
        "\n",
        "packed_test_data = raw_test_data.map(\n",
        "    PackNumericFeatures(NUMERIC_FEATURES))"
      ],
      "execution_count": 0,
      "outputs": []
    },
    {
      "cell_type": "code",
      "metadata": {
        "id": "jZGy8PmGKUR4",
        "colab_type": "code",
        "outputId": "bdeab2cb-827c-4bba-e86a-f6d6f39934e7",
        "colab": {
          "base_uri": "https://localhost:8080/",
          "height": 238
        }
      },
      "source": [
        "show_batch(packed_train_data)"
      ],
      "execution_count": 0,
      "outputs": [
        {
          "output_type": "stream",
          "text": [
            "dvcat               : [b'55+' b'10-24' b'25-39' b'40-54' b'10-24']\n",
            "dead                : [b'alive' b'alive' b'alive' b'alive' b'alive']\n",
            "airbag              : [b'none' b'none' b'none' b'airbag' b'none']\n",
            "seatbelt            : [b'belted' b'belted' b'belted' b'none' b'belted']\n",
            "sex                 : [b'f' b'm' b'f' b'm' b'm']\n",
            "abcat               : [b'unavail' b'unavail' b'unavail' b'deploy' b'unavail']\n",
            "occRole             : [b'driver' b'pass' b'driver' b'driver' b'pass']\n",
            "caseid              : [b'2:98:1' b'6:47:2' b'45:145:1' b'9:52:1' b'49:278:1']\n",
            "numeric             : [[   50.163     1.       51.     1998.     1993.        0.   ]\n",
            " [ 1885.771     0.       19.     1997.     1991.        0.   ]\n",
            " [18856.04      1.       21.     2001.     1988.        0.   ]\n",
            " [   35.785     0.       32.     2000.     1994.        1.   ]\n",
            " [    9.785     1.       49.     2000.     2000.        0.   ]]\n"
          ],
          "name": "stdout"
        }
      ]
    },
    {
      "cell_type": "code",
      "metadata": {
        "id": "-PvfLsHVKuj0",
        "colab_type": "code",
        "colab": {}
      },
      "source": [
        "example_batch, labels_batch = next(iter(packed_train_data))"
      ],
      "execution_count": 0,
      "outputs": []
    },
    {
      "cell_type": "markdown",
      "metadata": {
        "id": "s1vIbRB3KwCt",
        "colab_type": "text"
      },
      "source": [
        "Normalizing our continuous data"
      ]
    },
    {
      "cell_type": "code",
      "metadata": {
        "id": "YvOM1DnTK4OC",
        "colab_type": "code",
        "outputId": "fd494e59-29be-4cae-c223-a38eb2f91f2f",
        "colab": {
          "base_uri": "https://localhost:8080/",
          "height": 297
        }
      },
      "source": [
        "import pandas as pd\n",
        "desc = pd.read_csv(train_file_path)[NUMERIC_FEATURES].describe()\n",
        "desc"
      ],
      "execution_count": 0,
      "outputs": [
        {
          "output_type": "execute_result",
          "data": {
            "text/html": [
              "<div>\n",
              "<style scoped>\n",
              "    .dataframe tbody tr th:only-of-type {\n",
              "        vertical-align: middle;\n",
              "    }\n",
              "\n",
              "    .dataframe tbody tr th {\n",
              "        vertical-align: top;\n",
              "    }\n",
              "\n",
              "    .dataframe thead th {\n",
              "        text-align: right;\n",
              "    }\n",
              "</style>\n",
              "<table border=\"1\" class=\"dataframe\">\n",
              "  <thead>\n",
              "    <tr style=\"text-align: right;\">\n",
              "      <th></th>\n",
              "      <th>weight</th>\n",
              "      <th>frontal</th>\n",
              "      <th>ageOFocc</th>\n",
              "      <th>yearacc</th>\n",
              "      <th>yearVeh</th>\n",
              "      <th>deploy</th>\n",
              "    </tr>\n",
              "  </thead>\n",
              "  <tbody>\n",
              "    <tr>\n",
              "      <th>count</th>\n",
              "      <td>13109.000000</td>\n",
              "      <td>13109.000000</td>\n",
              "      <td>13109.000000</td>\n",
              "      <td>13109.000000</td>\n",
              "      <td>13108.000000</td>\n",
              "      <td>13109.000000</td>\n",
              "    </tr>\n",
              "    <tr>\n",
              "      <th>mean</th>\n",
              "      <td>469.761290</td>\n",
              "      <td>0.641315</td>\n",
              "      <td>37.173697</td>\n",
              "      <td>1999.555496</td>\n",
              "      <td>1992.813168</td>\n",
              "      <td>0.340835</td>\n",
              "    </tr>\n",
              "    <tr>\n",
              "      <th>std</th>\n",
              "      <td>1609.146959</td>\n",
              "      <td>0.479633</td>\n",
              "      <td>17.879764</td>\n",
              "      <td>1.702573</td>\n",
              "      <td>5.628077</td>\n",
              "      <td>0.474008</td>\n",
              "    </tr>\n",
              "    <tr>\n",
              "      <th>min</th>\n",
              "      <td>0.000000</td>\n",
              "      <td>0.000000</td>\n",
              "      <td>16.000000</td>\n",
              "      <td>1997.000000</td>\n",
              "      <td>1953.000000</td>\n",
              "      <td>0.000000</td>\n",
              "    </tr>\n",
              "    <tr>\n",
              "      <th>25%</th>\n",
              "      <td>33.185000</td>\n",
              "      <td>0.000000</td>\n",
              "      <td>22.000000</td>\n",
              "      <td>1998.000000</td>\n",
              "      <td>1989.000000</td>\n",
              "      <td>0.000000</td>\n",
              "    </tr>\n",
              "    <tr>\n",
              "      <th>50%</th>\n",
              "      <td>86.986000</td>\n",
              "      <td>1.000000</td>\n",
              "      <td>33.000000</td>\n",
              "      <td>2000.000000</td>\n",
              "      <td>1994.000000</td>\n",
              "      <td>0.000000</td>\n",
              "    </tr>\n",
              "    <tr>\n",
              "      <th>75%</th>\n",
              "      <td>362.130000</td>\n",
              "      <td>1.000000</td>\n",
              "      <td>48.000000</td>\n",
              "      <td>2001.000000</td>\n",
              "      <td>1997.000000</td>\n",
              "      <td>1.000000</td>\n",
              "    </tr>\n",
              "    <tr>\n",
              "      <th>max</th>\n",
              "      <td>57871.595000</td>\n",
              "      <td>1.000000</td>\n",
              "      <td>97.000000</td>\n",
              "      <td>2002.000000</td>\n",
              "      <td>2003.000000</td>\n",
              "      <td>1.000000</td>\n",
              "    </tr>\n",
              "  </tbody>\n",
              "</table>\n",
              "</div>"
            ],
            "text/plain": [
              "             weight       frontal  ...       yearVeh        deploy\n",
              "count  13109.000000  13109.000000  ...  13108.000000  13109.000000\n",
              "mean     469.761290      0.641315  ...   1992.813168      0.340835\n",
              "std     1609.146959      0.479633  ...      5.628077      0.474008\n",
              "min        0.000000      0.000000  ...   1953.000000      0.000000\n",
              "25%       33.185000      0.000000  ...   1989.000000      0.000000\n",
              "50%       86.986000      1.000000  ...   1994.000000      0.000000\n",
              "75%      362.130000      1.000000  ...   1997.000000      1.000000\n",
              "max    57871.595000      1.000000  ...   2003.000000      1.000000\n",
              "\n",
              "[8 rows x 6 columns]"
            ]
          },
          "metadata": {
            "tags": []
          },
          "execution_count": 50
        }
      ]
    },
    {
      "cell_type": "code",
      "metadata": {
        "id": "Wv5E-CxGK-pK",
        "colab_type": "code",
        "colab": {}
      },
      "source": [
        "MEAN = np.array(desc.T['mean'])\n",
        "STD = np.array(desc.T['std'])\n",
        "\n",
        "def normalize_numeric_data(data, mean, std):\n",
        "  # Center the data\n",
        "  return (data-mean)/std"
      ],
      "execution_count": 0,
      "outputs": []
    },
    {
      "cell_type": "markdown",
      "metadata": {
        "id": "lfgrC25eL3Y1",
        "colab_type": "text"
      },
      "source": [
        "Creating a numeric column with the normalized data"
      ]
    },
    {
      "cell_type": "code",
      "metadata": {
        "id": "FUqf7jS9Lrq5",
        "colab_type": "code",
        "outputId": "d774821f-45f3-4755-8425-e748a0b3f5bb",
        "colab": {
          "base_uri": "https://localhost:8080/",
          "height": 54
        }
      },
      "source": [
        "normalizer = functools.partial(normalize_numeric_data, mean=MEAN, std=STD)\n",
        "\n",
        "numeric_column = tf.feature_column.numeric_column('numeric', normalizer_fn=normalizer, shape=[len(NUMERIC_FEATURES)])\n",
        "numeric_columns = [numeric_column]\n",
        "numeric_column"
      ],
      "execution_count": 0,
      "outputs": [
        {
          "output_type": "execute_result",
          "data": {
            "text/plain": [
              "NumericColumn(key='numeric', shape=(6,), default_value=None, dtype=tf.float32, normalizer_fn=functools.partial(<function normalize_numeric_data at 0x7fa7e03da598>, mean=array([ 469.761,    0.641,   37.174, 1999.555, 1992.813,    0.341]), std=array([1609.147,    0.48 ,   17.88 ,    1.703,    5.628,    0.474])))"
            ]
          },
          "metadata": {
            "tags": []
          },
          "execution_count": 52
        }
      ]
    },
    {
      "cell_type": "markdown",
      "metadata": {
        "id": "dOOnE9H_MJFP",
        "colab_type": "text"
      },
      "source": [
        "We will include this feature column 'numeric' in our training process "
      ]
    },
    {
      "cell_type": "code",
      "metadata": {
        "id": "kvAdYDAdMHIq",
        "colab_type": "code",
        "outputId": "777588fb-e7b4-4331-97a6-199eb94c348d",
        "colab": {
          "base_uri": "https://localhost:8080/",
          "height": 136
        }
      },
      "source": [
        "example_batch['numeric']"
      ],
      "execution_count": 0,
      "outputs": [
        {
          "output_type": "execute_result",
          "data": {
            "text/plain": [
              "<tf.Tensor: shape=(5, 6), dtype=float32, numpy=\n",
              "array([[ 555.43 ,    1.   ,   16.   , 2000.   , 1989.   ,    0.   ],\n",
              "       [  45.52 ,    0.   ,   17.   , 2001.   , 1999.   ,    0.   ],\n",
              "       [ 198.299,    1.   ,   16.   , 1999.   , 1995.   ,    1.   ],\n",
              "       [3988.548,    0.   ,   39.   , 1997.   , 1985.   ,    0.   ],\n",
              "       [  32.356,    1.   ,   42.   , 1998.   , 1978.   ,    0.   ]],\n",
              "      dtype=float32)>"
            ]
          },
          "metadata": {
            "tags": []
          },
          "execution_count": 53
        }
      ]
    },
    {
      "cell_type": "code",
      "metadata": {
        "id": "0PdfyKA6MoGO",
        "colab_type": "code",
        "outputId": "ab6c1c41-b0df-49b0-bef7-a03633890c16",
        "colab": {
          "base_uri": "https://localhost:8080/",
          "height": 102
        }
      },
      "source": [
        "numeric_layer = tf.keras.layers.DenseFeatures(numeric_columns)\n",
        "numeric_layer(example_batch).numpy()"
      ],
      "execution_count": 0,
      "outputs": [
        {
          "output_type": "execute_result",
          "data": {
            "text/plain": [
              "array([[ 0.053,  0.748, -1.184,  0.261, -0.678, -0.719],\n",
              "       [-0.264, -1.337, -1.128,  0.848,  1.099, -0.719],\n",
              "       [-0.169,  0.748, -1.184, -0.326,  0.389,  1.391],\n",
              "       [ 2.187, -1.337,  0.102, -1.501, -1.388, -0.719],\n",
              "       [-0.272,  0.748,  0.27 , -0.914, -2.632, -0.719]], dtype=float32)"
            ]
          },
          "metadata": {
            "tags": []
          },
          "execution_count": 54
        }
      ]
    },
    {
      "cell_type": "markdown",
      "metadata": {
        "id": "xLwNTRWrMvQB",
        "colab_type": "text"
      },
      "source": [
        "Now dealing with our categorical variables"
      ]
    },
    {
      "cell_type": "code",
      "metadata": {
        "id": "hm7EHO9YMza-",
        "colab_type": "code",
        "colab": {}
      },
      "source": [
        "CATEGORIES = {\n",
        "    'dvcat': ['1-9km/h', '10-24', '25-39', '40-54', '55+'],\n",
        "    'dead' : ['alive', 'dead'],\n",
        "    'airbag' : ['airbag', 'none'],\n",
        "    'seatbelt' : ['belted', 'none'],\n",
        "    'sex' : ['f', 'm'],\n",
        "    'abcat' : ['deploy', 'nodeploy', 'unavail'],\n",
        "    'occRole' : ['driver', 'pass']\n",
        "}"
      ],
      "execution_count": 0,
      "outputs": []
    },
    {
      "cell_type": "code",
      "metadata": {
        "id": "wfMLge1fRUbt",
        "colab_type": "code",
        "outputId": "2081e7e5-789b-43fb-e867-05c08eb3ee39",
        "colab": {
          "base_uri": "https://localhost:8080/",
          "height": 156
        }
      },
      "source": [
        "categorical_columns = []\n",
        "for feature, vocab in CATEGORIES.items():\n",
        "  cat_col = tf.feature_column.categorical_column_with_vocabulary_list(\n",
        "        key=feature, vocabulary_list=vocab)\n",
        "  categorical_columns.append(tf.feature_column.indicator_column(cat_col))\n",
        "\n",
        "categorical_columns"
      ],
      "execution_count": 0,
      "outputs": [
        {
          "output_type": "execute_result",
          "data": {
            "text/plain": [
              "[IndicatorColumn(categorical_column=VocabularyListCategoricalColumn(key='dvcat', vocabulary_list=('1-9km/h', '10-24', '25-39', '40-54', '55+'), dtype=tf.string, default_value=-1, num_oov_buckets=0)),\n",
              " IndicatorColumn(categorical_column=VocabularyListCategoricalColumn(key='dead', vocabulary_list=('alive', 'dead'), dtype=tf.string, default_value=-1, num_oov_buckets=0)),\n",
              " IndicatorColumn(categorical_column=VocabularyListCategoricalColumn(key='airbag', vocabulary_list=('airbag', 'none'), dtype=tf.string, default_value=-1, num_oov_buckets=0)),\n",
              " IndicatorColumn(categorical_column=VocabularyListCategoricalColumn(key='seatbelt', vocabulary_list=('belted', 'none'), dtype=tf.string, default_value=-1, num_oov_buckets=0)),\n",
              " IndicatorColumn(categorical_column=VocabularyListCategoricalColumn(key='sex', vocabulary_list=('f', 'm'), dtype=tf.string, default_value=-1, num_oov_buckets=0)),\n",
              " IndicatorColumn(categorical_column=VocabularyListCategoricalColumn(key='abcat', vocabulary_list=('deploy', 'nodeploy', 'unavail'), dtype=tf.string, default_value=-1, num_oov_buckets=0)),\n",
              " IndicatorColumn(categorical_column=VocabularyListCategoricalColumn(key='occRole', vocabulary_list=('driver', 'pass'), dtype=tf.string, default_value=-1, num_oov_buckets=0))]"
            ]
          },
          "metadata": {
            "tags": []
          },
          "execution_count": 57
        }
      ]
    },
    {
      "cell_type": "markdown",
      "metadata": {
        "id": "Kh-lSs4ZRkGp",
        "colab_type": "text"
      },
      "source": [
        "This layer below will be part of the data processing input layer in our model"
      ]
    },
    {
      "cell_type": "code",
      "metadata": {
        "id": "3TbKu8S4ReLl",
        "colab_type": "code",
        "outputId": "a446fa4a-6a17-41bc-8aaa-a94499095e99",
        "colab": {
          "base_uri": "https://localhost:8080/",
          "height": 34
        }
      },
      "source": [
        "categorical_layer = tf.keras.layers.DenseFeatures(categorical_columns)\n",
        "print(categorical_layer(example_batch).numpy()[0])"
      ],
      "execution_count": 0,
      "outputs": [
        {
          "output_type": "stream",
          "text": [
            "[0. 0. 1. 0. 1. 1. 0. 0. 0. 0. 1. 0. 0. 1. 0. 1. 1. 0.]\n"
          ],
          "name": "stdout"
        }
      ]
    },
    {
      "cell_type": "markdown",
      "metadata": {
        "id": "QgLWcwO9SCEx",
        "colab_type": "text"
      },
      "source": [
        "**Combined Preprocessing Layer:**\n",
        "Adding the two feature column we created (continuous and categorical) to create an input layer that will extract and preprocess both input types"
      ]
    },
    {
      "cell_type": "code",
      "metadata": {
        "id": "iO3_oVuuSBhR",
        "colab_type": "code",
        "outputId": "367896c6-5c10-4c88-d5f7-a35379584293",
        "colab": {
          "base_uri": "https://localhost:8080/",
          "height": 68
        }
      },
      "source": [
        "preprocessing_layer = tf.keras.layers.DenseFeatures(categorical_columns+numeric_columns)\n",
        "print(preprocessing_layer(example_batch).numpy()[0])"
      ],
      "execution_count": 0,
      "outputs": [
        {
          "output_type": "stream",
          "text": [
            "[ 0.     0.     1.     0.     1.     1.     0.     0.     0.     0.\n",
            "  1.     0.     0.053  0.748 -1.184  0.261 -0.678 -0.719  0.     1.\n",
            "  0.     1.     1.     0.   ]\n"
          ],
          "name": "stdout"
        }
      ]
    },
    {
      "cell_type": "markdown",
      "metadata": {
        "id": "N3u-in3USsQo",
        "colab_type": "text"
      },
      "source": [
        "# **Build the Model**"
      ]
    },
    {
      "cell_type": "code",
      "metadata": {
        "id": "o87PwOGCSzbz",
        "colab_type": "code",
        "colab": {}
      },
      "source": [
        "model = tf.keras.Sequential([\n",
        "  preprocessing_layer,\n",
        "  tf.keras.layers.Dense(128, activation='relu'),\n",
        "  tf.keras.layers.Dense(128, activation='relu'),\n",
        "  tf.keras.layers.Dense(1),\n",
        "])\n",
        "\n",
        "model.compile(\n",
        "    loss=tf.keras.losses.BinaryCrossentropy(from_logits=True),\n",
        "    optimizer='adam',\n",
        "    metrics=['accuracy'])"
      ],
      "execution_count": 0,
      "outputs": []
    },
    {
      "cell_type": "markdown",
      "metadata": {
        "id": "VQovMtqXTQUK",
        "colab_type": "text"
      },
      "source": [
        "now we can start training"
      ]
    },
    {
      "cell_type": "code",
      "metadata": {
        "id": "GCeqru8xTSk4",
        "colab_type": "code",
        "colab": {}
      },
      "source": [
        "train_data = packed_train_data.shuffle(500)\n",
        "test_data = packed_test_data"
      ],
      "execution_count": 0,
      "outputs": []
    },
    {
      "cell_type": "code",
      "metadata": {
        "id": "TIWDJI7NTVdb",
        "colab_type": "code",
        "outputId": "3a530f19-ad38-4ef8-b3c8-8f1200e5c069",
        "colab": {
          "base_uri": "https://localhost:8080/",
          "height": 714
        }
      },
      "source": [
        "model.fit(train_data, epochs=20)"
      ],
      "execution_count": 0,
      "outputs": [
        {
          "output_type": "stream",
          "text": [
            "Epoch 1/20\n",
            "2606/2606 [==============================] - 10s 4ms/step - loss: -621966.3125 - accuracy: 0.2138\n",
            "Epoch 2/20\n",
            "2606/2606 [==============================] - 10s 4ms/step - loss: -6858165.5000 - accuracy: 0.2138\n",
            "Epoch 3/20\n",
            "2606/2606 [==============================] - 10s 4ms/step - loss: -23168572.0000 - accuracy: 0.2138\n",
            "Epoch 4/20\n",
            "2606/2606 [==============================] - 9s 4ms/step - loss: -52472800.0000 - accuracy: 0.2135\n",
            "Epoch 5/20\n",
            "2606/2606 [==============================] - 10s 4ms/step - loss: -96877472.0000 - accuracy: 0.2138\n",
            "Epoch 6/20\n",
            "2606/2606 [==============================] - 10s 4ms/step - loss: -159050704.0000 - accuracy: 0.2142\n",
            "Epoch 7/20\n",
            "2606/2606 [==============================] - 10s 4ms/step - loss: -241686560.0000 - accuracy: 0.2136\n",
            "Epoch 8/20\n",
            "2606/2606 [==============================] - 9s 4ms/step - loss: -347958624.0000 - accuracy: 0.2136\n",
            "Epoch 9/20\n",
            "2606/2606 [==============================] - 10s 4ms/step - loss: -480158592.0000 - accuracy: 0.2136\n",
            "Epoch 10/20\n",
            "2606/2606 [==============================] - 10s 4ms/step - loss: -642190720.0000 - accuracy: 0.2135\n",
            "Epoch 11/20\n",
            "2606/2606 [==============================] - 10s 4ms/step - loss: -833619712.0000 - accuracy: 0.2137\n",
            "Epoch 12/20\n",
            "2606/2606 [==============================] - 10s 4ms/step - loss: -1058136704.0000 - accuracy: 0.2135\n",
            "Epoch 13/20\n",
            "2606/2606 [==============================] - 9s 4ms/step - loss: -1319922944.0000 - accuracy: 0.2137\n",
            "Epoch 14/20\n",
            "2606/2606 [==============================] - 10s 4ms/step - loss: -1619468544.0000 - accuracy: 0.2135\n",
            "Epoch 15/20\n",
            "2606/2606 [==============================] - 10s 4ms/step - loss: -1963445248.0000 - accuracy: 0.2137\n",
            "Epoch 16/20\n",
            "2606/2606 [==============================] - 9s 4ms/step - loss: -2349604352.0000 - accuracy: 0.2138\n",
            "Epoch 17/20\n",
            "2606/2606 [==============================] - 10s 4ms/step - loss: -2785142016.0000 - accuracy: 0.2138\n",
            "Epoch 18/20\n",
            "2606/2606 [==============================] - 10s 4ms/step - loss: -3269223168.0000 - accuracy: 0.2135\n",
            "Epoch 19/20\n",
            "2606/2606 [==============================] - 10s 4ms/step - loss: -3801890816.0000 - accuracy: 0.2136\n",
            "Epoch 20/20\n",
            "2606/2606 [==============================] - 10s 4ms/step - loss: -4393311744.0000 - accuracy: 0.2142\n"
          ],
          "name": "stdout"
        },
        {
          "output_type": "execute_result",
          "data": {
            "text/plain": [
              "<tensorflow.python.keras.callbacks.History at 0x7fa7e02b6ef0>"
            ]
          },
          "metadata": {
            "tags": []
          },
          "execution_count": 63
        }
      ]
    },
    {
      "cell_type": "markdown",
      "metadata": {
        "id": "pS7AEMCWUJao",
        "colab_type": "text"
      },
      "source": [
        "Now that we trained our model, we can test the accuracy on the test set"
      ]
    },
    {
      "cell_type": "code",
      "metadata": {
        "id": "0_7fN7QKUUmH",
        "colab_type": "code",
        "outputId": "f5ef3c6d-21bd-4f58-a730-38135ac473dd",
        "colab": {
          "base_uri": "https://localhost:8080/",
          "height": 85
        }
      },
      "source": [
        "test_loss, test_accuracy = model.evaluate(test_data)\n",
        "\n",
        "print('\\n\\nTest Loss {}, Test Accuracy {}'.format(test_loss, test_accuracy))"
      ],
      "execution_count": 0,
      "outputs": [
        {
          "output_type": "stream",
          "text": [
            "2607/2607 [==============================] - 8s 3ms/step - loss: -4677221888.0000 - accuracy: 0.2173\n",
            "\n",
            "\n",
            "Test Loss -4677221888.0, Test Accuracy 0.21726122498512268\n"
          ],
          "name": "stdout"
        }
      ]
    },
    {
      "cell_type": "markdown",
      "metadata": {
        "id": "OOl5LOa1UlTg",
        "colab_type": "text"
      },
      "source": [
        "Test accuracy is almost 21.7% which is very low"
      ]
    },
    {
      "cell_type": "code",
      "metadata": {
        "id": "WvSmPlHxUrvG",
        "colab_type": "code",
        "colab": {}
      },
      "source": [
        "predictions = model.predict(test_data)"
      ],
      "execution_count": 0,
      "outputs": []
    }
  ]
}