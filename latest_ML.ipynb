{
  "nbformat": 4,
  "nbformat_minor": 0,
  "metadata": {
    "colab": {
      "name": "latest-ML.ipynb",
      "provenance": [],
      "collapsed_sections": [],
      "include_colab_link": true
    },
    "kernelspec": {
      "name": "python3",
      "display_name": "Python 3"
    },
    "accelerator": "GPU"
  },
  "cells": [
    {
      "cell_type": "markdown",
      "metadata": {
        "id": "view-in-github",
        "colab_type": "text"
      },
      "source": [
        "<a href=\"https://colab.research.google.com/github/simonarahi/MachineLearning-TensorFlow/blob/master/latest_ML.ipynb\" target=\"_parent\"><img src=\"https://colab.research.google.com/assets/colab-badge.svg\" alt=\"Open In Colab\"/></a>"
      ]
    },
    {
      "cell_type": "markdown",
      "metadata": {
        "id": "TAKDmAedGHOU",
        "colab_type": "text"
      },
      "source": [
        "# Simona Rahi\n",
        "# Loading Data and Classifying "
      ]
    },
    {
      "cell_type": "code",
      "metadata": {
        "id": "I9eEvtMbF6iM",
        "colab_type": "code",
        "colab": {}
      },
      "source": [
        "import tensorflow as tf\n",
        "from tensorflow import keras\n",
        "import functools\n",
        "import numpy as np\n",
        "import pandas as pd\n",
        "import matplotlib.pyplot as plt\n",
        "import seaborn as sns\n",
        "from sklearn import metrics"
      ],
      "execution_count": 0,
      "outputs": []
    },
    {
      "cell_type": "markdown",
      "metadata": {
        "id": "-9-TFITZ80PF",
        "colab_type": "text"
      },
      "source": [
        "Loading test and train data (each is 50% of data)"
      ]
    },
    {
      "cell_type": "code",
      "metadata": {
        "id": "-_oar1fwHJRf",
        "colab_type": "code",
        "outputId": "f8b25cb2-5f9f-4387-91ae-7ca211672e66",
        "colab": {
          "base_uri": "https://localhost:8080/",
          "height": 85
        }
      },
      "source": [
        "data_URL = \"https://raw.githubusercontent.com/simonarahi/MachineLearning-TensorFlow/master/nassCDS.csv\"\n",
        "\n",
        "train_data_URL = \"https://raw.githubusercontent.com/simonarahi/MachineLearning-TensorFlow/master/train.csv\"\n",
        "test_data_URL = \"https://raw.githubusercontent.com/simonarahi/MachineLearning-TensorFlow/master/test.csv\"\n",
        "\n",
        "train_file_path = tf.keras.utils.get_file(\"train.csv\", train_data_URL)\n",
        "test_file_path = tf.keras.utils.get_file(\"test.csv\", test_data_URL)"
      ],
      "execution_count": 2,
      "outputs": [
        {
          "output_type": "stream",
          "text": [
            "Downloading data from https://raw.githubusercontent.com/simonarahi/MachineLearning-TensorFlow/master/train.csv\n",
            "1425408/1419730 [==============================] - 0s 0us/step\n",
            "Downloading data from https://raw.githubusercontent.com/simonarahi/MachineLearning-TensorFlow/master/test.csv\n",
            "1425408/1420197 [==============================] - 0s 0us/step\n"
          ],
          "name": "stdout"
        }
      ]
    },
    {
      "cell_type": "code",
      "metadata": {
        "id": "JdC_7x9G9ZQ-",
        "colab_type": "code",
        "colab": {}
      },
      "source": [
        "np.set_printoptions(precision=3, suppress=True)"
      ],
      "execution_count": 0,
      "outputs": []
    },
    {
      "cell_type": "markdown",
      "metadata": {
        "id": "Wof0hcuW95MP",
        "colab_type": "text"
      },
      "source": [
        "Inspecting the data"
      ]
    },
    {
      "cell_type": "code",
      "metadata": {
        "id": "OkYpF_BY99qC",
        "colab_type": "code",
        "outputId": "187d457b-e213-4aa4-8cb3-c57c2c86bbc4",
        "colab": {
          "base_uri": "https://localhost:8080/",
          "height": 241
        }
      },
      "source": [
        "df = pd.read_csv(train_file_path)\n",
        "df.head()\n",
        "#df['injSeverity'].min()\n",
        "#df['injSeverity'].max()"
      ],
      "execution_count": 4,
      "outputs": [
        {
          "output_type": "execute_result",
          "data": {
            "text/html": [
              "<div>\n",
              "<style scoped>\n",
              "    .dataframe tbody tr th:only-of-type {\n",
              "        vertical-align: middle;\n",
              "    }\n",
              "\n",
              "    .dataframe tbody tr th {\n",
              "        vertical-align: top;\n",
              "    }\n",
              "\n",
              "    .dataframe thead th {\n",
              "        text-align: right;\n",
              "    }\n",
              "</style>\n",
              "<table border=\"1\" class=\"dataframe\">\n",
              "  <thead>\n",
              "    <tr style=\"text-align: right;\">\n",
              "      <th></th>\n",
              "      <th>Unnamed: 0</th>\n",
              "      <th>dvcat</th>\n",
              "      <th>weight</th>\n",
              "      <th>dead</th>\n",
              "      <th>airbag</th>\n",
              "      <th>seatbelt</th>\n",
              "      <th>frontal</th>\n",
              "      <th>sex</th>\n",
              "      <th>ageOFocc</th>\n",
              "      <th>yearacc</th>\n",
              "      <th>yearVeh</th>\n",
              "      <th>abcat</th>\n",
              "      <th>occRole</th>\n",
              "      <th>deploy</th>\n",
              "      <th>injSeverity</th>\n",
              "      <th>caseid</th>\n",
              "    </tr>\n",
              "  </thead>\n",
              "  <tbody>\n",
              "    <tr>\n",
              "      <th>0</th>\n",
              "      <td>1</td>\n",
              "      <td>25-39</td>\n",
              "      <td>25.069</td>\n",
              "      <td>alive</td>\n",
              "      <td>none</td>\n",
              "      <td>belted</td>\n",
              "      <td>1</td>\n",
              "      <td>f</td>\n",
              "      <td>26</td>\n",
              "      <td>1997</td>\n",
              "      <td>1990.0</td>\n",
              "      <td>unavail</td>\n",
              "      <td>driver</td>\n",
              "      <td>0</td>\n",
              "      <td>3.0</td>\n",
              "      <td>2:3:1</td>\n",
              "    </tr>\n",
              "    <tr>\n",
              "      <th>1</th>\n",
              "      <td>3</td>\n",
              "      <td>10-24</td>\n",
              "      <td>32.379</td>\n",
              "      <td>alive</td>\n",
              "      <td>none</td>\n",
              "      <td>none</td>\n",
              "      <td>1</td>\n",
              "      <td>f</td>\n",
              "      <td>69</td>\n",
              "      <td>1997</td>\n",
              "      <td>1988.0</td>\n",
              "      <td>unavail</td>\n",
              "      <td>driver</td>\n",
              "      <td>0</td>\n",
              "      <td>4.0</td>\n",
              "      <td>2:5:1</td>\n",
              "    </tr>\n",
              "    <tr>\n",
              "      <th>2</th>\n",
              "      <td>6</td>\n",
              "      <td>40-54</td>\n",
              "      <td>25.069</td>\n",
              "      <td>alive</td>\n",
              "      <td>none</td>\n",
              "      <td>belted</td>\n",
              "      <td>1</td>\n",
              "      <td>f</td>\n",
              "      <td>22</td>\n",
              "      <td>1997</td>\n",
              "      <td>1985.0</td>\n",
              "      <td>unavail</td>\n",
              "      <td>driver</td>\n",
              "      <td>0</td>\n",
              "      <td>3.0</td>\n",
              "      <td>2:11:2</td>\n",
              "    </tr>\n",
              "    <tr>\n",
              "      <th>3</th>\n",
              "      <td>7</td>\n",
              "      <td>55+</td>\n",
              "      <td>27.078</td>\n",
              "      <td>alive</td>\n",
              "      <td>none</td>\n",
              "      <td>belted</td>\n",
              "      <td>1</td>\n",
              "      <td>m</td>\n",
              "      <td>22</td>\n",
              "      <td>1997</td>\n",
              "      <td>1984.0</td>\n",
              "      <td>unavail</td>\n",
              "      <td>driver</td>\n",
              "      <td>0</td>\n",
              "      <td>3.0</td>\n",
              "      <td>2:13:1</td>\n",
              "    </tr>\n",
              "    <tr>\n",
              "      <th>4</th>\n",
              "      <td>9</td>\n",
              "      <td>10-24</td>\n",
              "      <td>812.869</td>\n",
              "      <td>alive</td>\n",
              "      <td>none</td>\n",
              "      <td>belted</td>\n",
              "      <td>0</td>\n",
              "      <td>m</td>\n",
              "      <td>40</td>\n",
              "      <td>1997</td>\n",
              "      <td>1984.0</td>\n",
              "      <td>unavail</td>\n",
              "      <td>driver</td>\n",
              "      <td>0</td>\n",
              "      <td>1.0</td>\n",
              "      <td>2:14:1</td>\n",
              "    </tr>\n",
              "  </tbody>\n",
              "</table>\n",
              "</div>"
            ],
            "text/plain": [
              "   Unnamed: 0  dvcat   weight   dead  ... occRole deploy  injSeverity  caseid\n",
              "0           1  25-39   25.069  alive  ...  driver      0          3.0   2:3:1\n",
              "1           3  10-24   32.379  alive  ...  driver      0          4.0   2:5:1\n",
              "2           6  40-54   25.069  alive  ...  driver      0          3.0  2:11:2\n",
              "3           7    55+   27.078  alive  ...  driver      0          3.0  2:13:1\n",
              "4           9  10-24  812.869  alive  ...  driver      0          1.0  2:14:1\n",
              "\n",
              "[5 rows x 16 columns]"
            ]
          },
          "metadata": {
            "tags": []
          },
          "execution_count": 4
        }
      ]
    },
    {
      "cell_type": "markdown",
      "metadata": {
        "id": "BWCq1CrFAwL-",
        "colab_type": "text"
      },
      "source": [
        "Specifying column to be classified"
      ]
    },
    {
      "cell_type": "code",
      "metadata": {
        "id": "_Ps8CJ9hA1wo",
        "colab_type": "code",
        "colab": {}
      },
      "source": [
        "LABEL_COLUMN = 'injSeverity'\n",
        "LABELS = [0, 1, 2, 3, 4, 5, 6]"
      ],
      "execution_count": 0,
      "outputs": []
    },
    {
      "cell_type": "markdown",
      "metadata": {
        "id": "TAv9djUYDdtk",
        "colab_type": "text"
      },
      "source": [
        "Read csv data from file and create dataset"
      ]
    },
    {
      "cell_type": "code",
      "metadata": {
        "id": "6k8E1iWFDiQl",
        "colab_type": "code",
        "colab": {}
      },
      "source": [
        "def get_dataset(file_path, **kwargs):\n",
        "  dataset = tf.data.experimental.make_csv_dataset(\n",
        "      file_path,\n",
        "      batch_size=5, # Artificially small to make examples easier to show.\n",
        "      label_name=LABEL_COLUMN,\n",
        "      na_value=\"?\",\n",
        "      select_columns = ['dvcat', 'weight', 'dead', 'airbag', 'seatbelt', 'frontal', 'sex', 'ageOFocc', 'yearacc', 'yearVeh', 'abcat', 'occRole', 'deploy', 'injSeverity'],\n",
        "      num_epochs=1,\n",
        "      ignore_errors=True, \n",
        "      **kwargs)\n",
        "  return dataset\n",
        "\n",
        "raw_train_data = get_dataset(train_file_path)\n",
        "raw_test_data = get_dataset(test_file_path)"
      ],
      "execution_count": 0,
      "outputs": []
    },
    {
      "cell_type": "code",
      "metadata": {
        "id": "f8ahB_IFFl8S",
        "colab_type": "code",
        "outputId": "e726cdfc-a3d2-43bc-f3f0-d22ce13586b4",
        "colab": {
          "base_uri": "https://localhost:8080/",
          "height": 238
        }
      },
      "source": [
        "def show_batch(dataset):\n",
        "  for batch, label in dataset.take(1):\n",
        "    for key, value in batch.items():\n",
        "      print(\"{:20s}: {}\".format(key,value.numpy()))\n",
        "\n",
        "show_batch(raw_train_data)"
      ],
      "execution_count": 8,
      "outputs": [
        {
          "output_type": "stream",
          "text": [
            "dvcat               : [b'25-39' b'25-39' b'10-24' b'10-24' b'10-24']\n",
            "weight              : [ 116.202    3.028   10.31  2089.741   30.29 ]\n",
            "dead                : [b'dead' b'alive' b'alive' b'alive' b'alive']\n",
            "airbag              : [b'none' b'none' b'airbag' b'none' b'none']\n",
            "seatbelt            : [b'none' b'belted' b'belted' b'none' b'none']\n",
            "frontal             : [1 1 0 0 1]\n",
            "sex                 : [b'm' b'f' b'f' b'm' b'm']\n",
            "ageOFocc            : [25 44 54 32 19]\n",
            "yearacc             : [2000 1997 2000 1998 1997]\n",
            "yearVeh             : [1991 1980 1998 1985 1975]\n",
            "abcat               : [b'unavail' b'unavail' b'nodeploy' b'unavail' b'unavail']\n",
            "occRole             : [b'driver' b'driver' b'driver' b'driver' b'driver']\n",
            "deploy              : [0 0 0 0 0]\n"
          ],
          "name": "stdout"
        }
      ]
    },
    {
      "cell_type": "markdown",
      "metadata": {
        "id": "aP8VqQtZF83u",
        "colab_type": "text"
      },
      "source": [
        "# **Data Preprocessing**\n"
      ]
    },
    {
      "cell_type": "markdown",
      "metadata": {
        "id": "O0AxfkQpJjJc",
        "colab_type": "text"
      },
      "source": [
        "Since we have mixed data types, we will start by seperating the numeric features and pack them into one column."
      ]
    },
    {
      "cell_type": "code",
      "metadata": {
        "id": "Dd-j8j3JGcoX",
        "colab_type": "code",
        "colab": {}
      },
      "source": [
        "class PackNumericFeatures(object):\n",
        "  def __init__(self, names):\n",
        "    self.names = names\n",
        "\n",
        "  def __call__(self, features, labels):\n",
        "    numeric_features = [features.pop(name) for name in self.names]\n",
        "    numeric_features = [tf.cast(feat, tf.float32) for feat in numeric_features]\n",
        "    numeric_features = tf.stack(numeric_features, axis=-1)\n",
        "    features['numeric'] = numeric_features\n",
        "\n",
        "    return features, labels"
      ],
      "execution_count": 0,
      "outputs": []
    },
    {
      "cell_type": "code",
      "metadata": {
        "id": "CddZaAp0J3S2",
        "colab_type": "code",
        "colab": {}
      },
      "source": [
        "NUMERIC_FEATURES = ['weight','frontal','ageOFocc', 'yearacc', 'yearVeh', 'deploy']\n",
        "\n",
        "packed_train_data = raw_train_data.map(\n",
        "    PackNumericFeatures(NUMERIC_FEATURES))\n",
        "\n",
        "packed_test_data = raw_test_data.map(\n",
        "    PackNumericFeatures(NUMERIC_FEATURES))"
      ],
      "execution_count": 0,
      "outputs": []
    },
    {
      "cell_type": "code",
      "metadata": {
        "id": "jZGy8PmGKUR4",
        "colab_type": "code",
        "outputId": "78f740ca-56a8-4d71-94d0-cfb0decded33",
        "colab": {
          "base_uri": "https://localhost:8080/",
          "height": 221
        }
      },
      "source": [
        "show_batch(packed_train_data)"
      ],
      "execution_count": 11,
      "outputs": [
        {
          "output_type": "stream",
          "text": [
            "dvcat               : [b'25-39' b'25-39' b'25-39' b'10-24' b'25-39']\n",
            "dead                : [b'alive' b'alive' b'alive' b'alive' b'alive']\n",
            "airbag              : [b'airbag' b'airbag' b'airbag' b'none' b'none']\n",
            "seatbelt            : [b'belted' b'belted' b'none' b'belted' b'belted']\n",
            "sex                 : [b'f' b'f' b'f' b'm' b'f']\n",
            "abcat               : [b'deploy' b'deploy' b'nodeploy' b'unavail' b'unavail']\n",
            "occRole             : [b'driver' b'pass' b'pass' b'driver' b'pass']\n",
            "numeric             : [[   2.787    0.      63.    1998.    1995.       1.   ]\n",
            " [  66.618    1.      39.    1997.    1996.       1.   ]\n",
            " [ 253.492    0.      48.    2001.    1991.       0.   ]\n",
            " [  21.428    1.      33.    1999.    1986.       0.   ]\n",
            " [  70.308    1.      80.    1998.    1990.       0.   ]]\n"
          ],
          "name": "stdout"
        }
      ]
    },
    {
      "cell_type": "code",
      "metadata": {
        "id": "-PvfLsHVKuj0",
        "colab_type": "code",
        "colab": {}
      },
      "source": [
        "example_batch, labels_batch = next(iter(packed_train_data))"
      ],
      "execution_count": 0,
      "outputs": []
    },
    {
      "cell_type": "markdown",
      "metadata": {
        "id": "s1vIbRB3KwCt",
        "colab_type": "text"
      },
      "source": [
        "Normalizing our continuous data"
      ]
    },
    {
      "cell_type": "code",
      "metadata": {
        "id": "YvOM1DnTK4OC",
        "colab_type": "code",
        "outputId": "513d5c55-9aef-4caa-aeee-b60e4ab1b865",
        "colab": {
          "base_uri": "https://localhost:8080/",
          "height": 297
        }
      },
      "source": [
        "import pandas as pd\n",
        "desc = pd.read_csv(train_file_path)[NUMERIC_FEATURES].describe()\n",
        "desc"
      ],
      "execution_count": 13,
      "outputs": [
        {
          "output_type": "execute_result",
          "data": {
            "text/html": [
              "<div>\n",
              "<style scoped>\n",
              "    .dataframe tbody tr th:only-of-type {\n",
              "        vertical-align: middle;\n",
              "    }\n",
              "\n",
              "    .dataframe tbody tr th {\n",
              "        vertical-align: top;\n",
              "    }\n",
              "\n",
              "    .dataframe thead th {\n",
              "        text-align: right;\n",
              "    }\n",
              "</style>\n",
              "<table border=\"1\" class=\"dataframe\">\n",
              "  <thead>\n",
              "    <tr style=\"text-align: right;\">\n",
              "      <th></th>\n",
              "      <th>weight</th>\n",
              "      <th>frontal</th>\n",
              "      <th>ageOFocc</th>\n",
              "      <th>yearacc</th>\n",
              "      <th>yearVeh</th>\n",
              "      <th>deploy</th>\n",
              "    </tr>\n",
              "  </thead>\n",
              "  <tbody>\n",
              "    <tr>\n",
              "      <th>count</th>\n",
              "      <td>13109.000000</td>\n",
              "      <td>13109.000000</td>\n",
              "      <td>13109.000000</td>\n",
              "      <td>13109.000000</td>\n",
              "      <td>13108.000000</td>\n",
              "      <td>13109.000000</td>\n",
              "    </tr>\n",
              "    <tr>\n",
              "      <th>mean</th>\n",
              "      <td>469.761290</td>\n",
              "      <td>0.641315</td>\n",
              "      <td>37.173697</td>\n",
              "      <td>1999.555496</td>\n",
              "      <td>1992.813168</td>\n",
              "      <td>0.340835</td>\n",
              "    </tr>\n",
              "    <tr>\n",
              "      <th>std</th>\n",
              "      <td>1609.146959</td>\n",
              "      <td>0.479633</td>\n",
              "      <td>17.879764</td>\n",
              "      <td>1.702573</td>\n",
              "      <td>5.628077</td>\n",
              "      <td>0.474008</td>\n",
              "    </tr>\n",
              "    <tr>\n",
              "      <th>min</th>\n",
              "      <td>0.000000</td>\n",
              "      <td>0.000000</td>\n",
              "      <td>16.000000</td>\n",
              "      <td>1997.000000</td>\n",
              "      <td>1953.000000</td>\n",
              "      <td>0.000000</td>\n",
              "    </tr>\n",
              "    <tr>\n",
              "      <th>25%</th>\n",
              "      <td>33.185000</td>\n",
              "      <td>0.000000</td>\n",
              "      <td>22.000000</td>\n",
              "      <td>1998.000000</td>\n",
              "      <td>1989.000000</td>\n",
              "      <td>0.000000</td>\n",
              "    </tr>\n",
              "    <tr>\n",
              "      <th>50%</th>\n",
              "      <td>86.986000</td>\n",
              "      <td>1.000000</td>\n",
              "      <td>33.000000</td>\n",
              "      <td>2000.000000</td>\n",
              "      <td>1994.000000</td>\n",
              "      <td>0.000000</td>\n",
              "    </tr>\n",
              "    <tr>\n",
              "      <th>75%</th>\n",
              "      <td>362.130000</td>\n",
              "      <td>1.000000</td>\n",
              "      <td>48.000000</td>\n",
              "      <td>2001.000000</td>\n",
              "      <td>1997.000000</td>\n",
              "      <td>1.000000</td>\n",
              "    </tr>\n",
              "    <tr>\n",
              "      <th>max</th>\n",
              "      <td>57871.595000</td>\n",
              "      <td>1.000000</td>\n",
              "      <td>97.000000</td>\n",
              "      <td>2002.000000</td>\n",
              "      <td>2003.000000</td>\n",
              "      <td>1.000000</td>\n",
              "    </tr>\n",
              "  </tbody>\n",
              "</table>\n",
              "</div>"
            ],
            "text/plain": [
              "             weight       frontal  ...       yearVeh        deploy\n",
              "count  13109.000000  13109.000000  ...  13108.000000  13109.000000\n",
              "mean     469.761290      0.641315  ...   1992.813168      0.340835\n",
              "std     1609.146959      0.479633  ...      5.628077      0.474008\n",
              "min        0.000000      0.000000  ...   1953.000000      0.000000\n",
              "25%       33.185000      0.000000  ...   1989.000000      0.000000\n",
              "50%       86.986000      1.000000  ...   1994.000000      0.000000\n",
              "75%      362.130000      1.000000  ...   1997.000000      1.000000\n",
              "max    57871.595000      1.000000  ...   2003.000000      1.000000\n",
              "\n",
              "[8 rows x 6 columns]"
            ]
          },
          "metadata": {
            "tags": []
          },
          "execution_count": 13
        }
      ]
    },
    {
      "cell_type": "code",
      "metadata": {
        "id": "Wv5E-CxGK-pK",
        "colab_type": "code",
        "colab": {}
      },
      "source": [
        "MEAN = np.array(desc.T['mean'])\n",
        "STD = np.array(desc.T['std'])\n",
        "\n",
        "def normalize_numeric_data(data, mean, std):\n",
        "  # Center the data\n",
        "  return (data-mean)/std"
      ],
      "execution_count": 0,
      "outputs": []
    },
    {
      "cell_type": "markdown",
      "metadata": {
        "id": "lfgrC25eL3Y1",
        "colab_type": "text"
      },
      "source": [
        "Creating a numeric column with the normalized data"
      ]
    },
    {
      "cell_type": "code",
      "metadata": {
        "id": "FUqf7jS9Lrq5",
        "colab_type": "code",
        "outputId": "ed3402af-dac7-46f4-cbfe-3785d63ff6c0",
        "colab": {
          "base_uri": "https://localhost:8080/",
          "height": 54
        }
      },
      "source": [
        "normalizer = functools.partial(normalize_numeric_data, mean=MEAN, std=STD)\n",
        "\n",
        "numeric_column = tf.feature_column.numeric_column('numeric', normalizer_fn=normalizer, shape=[len(NUMERIC_FEATURES)])\n",
        "numeric_columns = [numeric_column]\n",
        "numeric_column"
      ],
      "execution_count": 15,
      "outputs": [
        {
          "output_type": "execute_result",
          "data": {
            "text/plain": [
              "NumericColumn(key='numeric', shape=(6,), default_value=None, dtype=tf.float32, normalizer_fn=functools.partial(<function normalize_numeric_data at 0x7fdca0137730>, mean=array([ 469.761,    0.641,   37.174, 1999.555, 1992.813,    0.341]), std=array([1609.147,    0.48 ,   17.88 ,    1.703,    5.628,    0.474])))"
            ]
          },
          "metadata": {
            "tags": []
          },
          "execution_count": 15
        }
      ]
    },
    {
      "cell_type": "markdown",
      "metadata": {
        "id": "dOOnE9H_MJFP",
        "colab_type": "text"
      },
      "source": [
        "We will include this feature column 'numeric' in our training process "
      ]
    },
    {
      "cell_type": "code",
      "metadata": {
        "id": "kvAdYDAdMHIq",
        "colab_type": "code",
        "outputId": "0c44dc5f-6421-4140-9fac-f1abfcea79a7",
        "colab": {
          "base_uri": "https://localhost:8080/",
          "height": 136
        }
      },
      "source": [
        "example_batch['numeric']"
      ],
      "execution_count": 16,
      "outputs": [
        {
          "output_type": "execute_result",
          "data": {
            "text/plain": [
              "<tf.Tensor: shape=(5, 6), dtype=float32, numpy=\n",
              "array([[1437.958,    0.   ,   21.   , 1998.   , 1985.   ,    0.   ],\n",
              "       [  94.226,    0.   ,   80.   , 1997.   , 1990.   ,    0.   ],\n",
              "       [  18.319,    1.   ,   43.   , 1999.   , 1988.   ,    0.   ],\n",
              "       [  29.757,    1.   ,   48.   , 2000.   , 1994.   ,    0.   ],\n",
              "       [  10.917,    0.   ,   48.   , 1999.   , 1998.   ,    0.   ]],\n",
              "      dtype=float32)>"
            ]
          },
          "metadata": {
            "tags": []
          },
          "execution_count": 16
        }
      ]
    },
    {
      "cell_type": "code",
      "metadata": {
        "id": "0PdfyKA6MoGO",
        "colab_type": "code",
        "outputId": "45d63bbe-461c-49e4-fa17-86f922e46d5e",
        "colab": {
          "base_uri": "https://localhost:8080/",
          "height": 102
        }
      },
      "source": [
        "numeric_layer = tf.keras.layers.DenseFeatures(numeric_columns)\n",
        "numeric_layer(example_batch).numpy()"
      ],
      "execution_count": 17,
      "outputs": [
        {
          "output_type": "execute_result",
          "data": {
            "text/plain": [
              "array([[ 0.602, -1.337, -0.905, -0.914, -1.388, -0.719],\n",
              "       [-0.233, -1.337,  2.395, -1.501, -0.5  , -0.719],\n",
              "       [-0.281,  0.748,  0.326, -0.326, -0.855, -0.719],\n",
              "       [-0.273,  0.748,  0.606,  0.261,  0.211, -0.719],\n",
              "       [-0.285, -1.337,  0.606, -0.326,  0.922, -0.719]], dtype=float32)"
            ]
          },
          "metadata": {
            "tags": []
          },
          "execution_count": 17
        }
      ]
    },
    {
      "cell_type": "markdown",
      "metadata": {
        "id": "xLwNTRWrMvQB",
        "colab_type": "text"
      },
      "source": [
        "Now dealing with our categorical variables"
      ]
    },
    {
      "cell_type": "code",
      "metadata": {
        "id": "hm7EHO9YMza-",
        "colab_type": "code",
        "colab": {}
      },
      "source": [
        "CATEGORIES = {\n",
        "    'dvcat': ['1-9km/h', '10-24', '25-39', '40-54', '55+'],\n",
        "    'dead' : ['alive', 'dead'],\n",
        "    'airbag' : ['airbag', 'none'],\n",
        "    'seatbelt' : ['belted', 'none'],\n",
        "    'sex' : ['f', 'm'],\n",
        "    'abcat' : ['deploy', 'nodeploy', 'unavail'],\n",
        "    'occRole' : ['driver', 'pass']\n",
        "}"
      ],
      "execution_count": 0,
      "outputs": []
    },
    {
      "cell_type": "code",
      "metadata": {
        "id": "wfMLge1fRUbt",
        "colab_type": "code",
        "outputId": "7c5eb310-b7e8-4dfc-ed7b-e010804f6141",
        "colab": {
          "base_uri": "https://localhost:8080/",
          "height": 156
        }
      },
      "source": [
        "categorical_columns = []\n",
        "for feature, vocab in CATEGORIES.items():\n",
        "  cat_col = tf.feature_column.categorical_column_with_vocabulary_list(\n",
        "        key=feature, vocabulary_list=vocab)\n",
        "  categorical_columns.append(tf.feature_column.indicator_column(cat_col))\n",
        "\n",
        "categorical_columns"
      ],
      "execution_count": 19,
      "outputs": [
        {
          "output_type": "execute_result",
          "data": {
            "text/plain": [
              "[IndicatorColumn(categorical_column=VocabularyListCategoricalColumn(key='dvcat', vocabulary_list=('1-9km/h', '10-24', '25-39', '40-54', '55+'), dtype=tf.string, default_value=-1, num_oov_buckets=0)),\n",
              " IndicatorColumn(categorical_column=VocabularyListCategoricalColumn(key='dead', vocabulary_list=('alive', 'dead'), dtype=tf.string, default_value=-1, num_oov_buckets=0)),\n",
              " IndicatorColumn(categorical_column=VocabularyListCategoricalColumn(key='airbag', vocabulary_list=('airbag', 'none'), dtype=tf.string, default_value=-1, num_oov_buckets=0)),\n",
              " IndicatorColumn(categorical_column=VocabularyListCategoricalColumn(key='seatbelt', vocabulary_list=('belted', 'none'), dtype=tf.string, default_value=-1, num_oov_buckets=0)),\n",
              " IndicatorColumn(categorical_column=VocabularyListCategoricalColumn(key='sex', vocabulary_list=('f', 'm'), dtype=tf.string, default_value=-1, num_oov_buckets=0)),\n",
              " IndicatorColumn(categorical_column=VocabularyListCategoricalColumn(key='abcat', vocabulary_list=('deploy', 'nodeploy', 'unavail'), dtype=tf.string, default_value=-1, num_oov_buckets=0)),\n",
              " IndicatorColumn(categorical_column=VocabularyListCategoricalColumn(key='occRole', vocabulary_list=('driver', 'pass'), dtype=tf.string, default_value=-1, num_oov_buckets=0))]"
            ]
          },
          "metadata": {
            "tags": []
          },
          "execution_count": 19
        }
      ]
    },
    {
      "cell_type": "markdown",
      "metadata": {
        "id": "Kh-lSs4ZRkGp",
        "colab_type": "text"
      },
      "source": [
        "This layer below will be part of the data processing input layer in our model"
      ]
    },
    {
      "cell_type": "code",
      "metadata": {
        "id": "3TbKu8S4ReLl",
        "colab_type": "code",
        "outputId": "aaad7c94-70c8-4dcd-cf02-8cf73b06dd39",
        "colab": {
          "base_uri": "https://localhost:8080/",
          "height": 34
        }
      },
      "source": [
        "categorical_layer = tf.keras.layers.DenseFeatures(categorical_columns)\n",
        "print(categorical_layer(example_batch).numpy()[0])"
      ],
      "execution_count": 20,
      "outputs": [
        {
          "output_type": "stream",
          "text": [
            "[0. 0. 1. 0. 1. 1. 0. 0. 0. 1. 0. 0. 1. 0. 0. 1. 1. 0.]\n"
          ],
          "name": "stdout"
        }
      ]
    },
    {
      "cell_type": "markdown",
      "metadata": {
        "id": "QgLWcwO9SCEx",
        "colab_type": "text"
      },
      "source": [
        "**Combined Preprocessing Layer:**\n",
        "Adding the two feature column we created (continuous and categorical) to create an input layer that will extract and preprocess both input types"
      ]
    },
    {
      "cell_type": "code",
      "metadata": {
        "id": "iO3_oVuuSBhR",
        "colab_type": "code",
        "outputId": "2dcaaf92-7e8d-456d-f4cf-50f952beb574",
        "colab": {
          "base_uri": "https://localhost:8080/",
          "height": 68
        }
      },
      "source": [
        "preprocessing_layer = tf.keras.layers.DenseFeatures(categorical_columns+numeric_columns)\n",
        "print(preprocessing_layer(example_batch).numpy()[0])"
      ],
      "execution_count": 21,
      "outputs": [
        {
          "output_type": "stream",
          "text": [
            "[ 0.     0.     1.     0.     1.     1.     0.     0.     0.     1.\n",
            "  0.     0.     0.602 -1.337 -0.905 -0.914 -1.388 -0.719  1.     0.\n",
            "  0.     1.     1.     0.   ]\n"
          ],
          "name": "stdout"
        }
      ]
    },
    {
      "cell_type": "markdown",
      "metadata": {
        "id": "N3u-in3USsQo",
        "colab_type": "text"
      },
      "source": [
        "# **Build the Model**"
      ]
    },
    {
      "cell_type": "code",
      "metadata": {
        "id": "o87PwOGCSzbz",
        "colab_type": "code",
        "colab": {}
      },
      "source": [
        "model = tf.keras.Sequential([\n",
        "  preprocessing_layer,\n",
        "  tf.keras.layers.Dense(128, activation='relu'),\n",
        "  tf.keras.layers.Dense(128, activation='relu'),\n",
        "  tf.keras.layers.Dense(1),\n",
        "])\n",
        "\n",
        "model.compile(\n",
        "    loss=tf.keras.losses.CategoricalCrossentropy(from_logits=True),\n",
        "    optimizer='adam',\n",
        "    metrics=['accuracy'])"
      ],
      "execution_count": 0,
      "outputs": []
    },
    {
      "cell_type": "markdown",
      "metadata": {
        "id": "VQovMtqXTQUK",
        "colab_type": "text"
      },
      "source": [
        "now we can start training"
      ]
    },
    {
      "cell_type": "code",
      "metadata": {
        "id": "GCeqru8xTSk4",
        "colab_type": "code",
        "colab": {}
      },
      "source": [
        "train_data = packed_train_data.shuffle(500)\n",
        "test_data = packed_test_data"
      ],
      "execution_count": 0,
      "outputs": []
    },
    {
      "cell_type": "code",
      "metadata": {
        "id": "TIWDJI7NTVdb",
        "colab_type": "code",
        "outputId": "7e73fa8e-1ffa-4c71-f478-eba645dfd89b",
        "colab": {
          "base_uri": "https://localhost:8080/",
          "height": 714
        }
      },
      "source": [
        "model.fit(train_data, epochs=20)"
      ],
      "execution_count": 24,
      "outputs": [
        {
          "output_type": "stream",
          "text": [
            "Epoch 1/20\n",
            "2606/2606 [==============================] - 18s 7ms/step - loss: 0.0000e+00 - accuracy: 0.2129\n",
            "Epoch 2/20\n",
            "2606/2606 [==============================] - 18s 7ms/step - loss: 0.0000e+00 - accuracy: 0.2127\n",
            "Epoch 3/20\n",
            "2606/2606 [==============================] - 18s 7ms/step - loss: 0.0000e+00 - accuracy: 0.2127\n",
            "Epoch 4/20\n",
            "2606/2606 [==============================] - 18s 7ms/step - loss: 0.0000e+00 - accuracy: 0.2127\n",
            "Epoch 5/20\n",
            "2606/2606 [==============================] - 18s 7ms/step - loss: 0.0000e+00 - accuracy: 0.2127\n",
            "Epoch 6/20\n",
            "2606/2606 [==============================] - 18s 7ms/step - loss: 0.0000e+00 - accuracy: 0.2127\n",
            "Epoch 7/20\n",
            "2606/2606 [==============================] - 18s 7ms/step - loss: 0.0000e+00 - accuracy: 0.2127\n",
            "Epoch 8/20\n",
            "2606/2606 [==============================] - 17s 7ms/step - loss: 0.0000e+00 - accuracy: 0.2127\n",
            "Epoch 9/20\n",
            "2606/2606 [==============================] - 18s 7ms/step - loss: 0.0000e+00 - accuracy: 0.2127\n",
            "Epoch 10/20\n",
            "2606/2606 [==============================] - 18s 7ms/step - loss: 0.0000e+00 - accuracy: 0.2127\n",
            "Epoch 11/20\n",
            "2606/2606 [==============================] - 17s 7ms/step - loss: 0.0000e+00 - accuracy: 0.2127\n",
            "Epoch 12/20\n",
            "2606/2606 [==============================] - 18s 7ms/step - loss: 0.0000e+00 - accuracy: 0.2127\n",
            "Epoch 13/20\n",
            "2606/2606 [==============================] - 17s 7ms/step - loss: 0.0000e+00 - accuracy: 0.2127\n",
            "Epoch 14/20\n",
            "2606/2606 [==============================] - 18s 7ms/step - loss: 0.0000e+00 - accuracy: 0.2127\n",
            "Epoch 15/20\n",
            "2606/2606 [==============================] - 17s 7ms/step - loss: 0.0000e+00 - accuracy: 0.2127\n",
            "Epoch 16/20\n",
            "2606/2606 [==============================] - 18s 7ms/step - loss: 0.0000e+00 - accuracy: 0.2127\n",
            "Epoch 17/20\n",
            "2606/2606 [==============================] - 18s 7ms/step - loss: 0.0000e+00 - accuracy: 0.2127\n",
            "Epoch 18/20\n",
            "2606/2606 [==============================] - 17s 7ms/step - loss: 0.0000e+00 - accuracy: 0.2127\n",
            "Epoch 19/20\n",
            "2606/2606 [==============================] - 17s 7ms/step - loss: 0.0000e+00 - accuracy: 0.2127\n",
            "Epoch 20/20\n",
            "2606/2606 [==============================] - 17s 7ms/step - loss: 0.0000e+00 - accuracy: 0.2127\n"
          ],
          "name": "stdout"
        },
        {
          "output_type": "execute_result",
          "data": {
            "text/plain": [
              "<tensorflow.python.keras.callbacks.History at 0x7fdca004be10>"
            ]
          },
          "metadata": {
            "tags": []
          },
          "execution_count": 24
        }
      ]
    },
    {
      "cell_type": "markdown",
      "metadata": {
        "id": "pS7AEMCWUJao",
        "colab_type": "text"
      },
      "source": [
        "Now that we trained our model, we can test the accuracy on the test set"
      ]
    },
    {
      "cell_type": "code",
      "metadata": {
        "id": "0_7fN7QKUUmH",
        "colab_type": "code",
        "outputId": "99221b25-f294-4a2c-9f7b-f03bd3684cfa",
        "colab": {
          "base_uri": "https://localhost:8080/",
          "height": 85
        }
      },
      "source": [
        "test_loss, test_accuracy = model.evaluate(test_data)\n",
        "\n",
        "print('\\n\\nTest Loss {}, Test Accuracy {}'.format(test_loss, test_accuracy))"
      ],
      "execution_count": 0,
      "outputs": [
        {
          "output_type": "stream",
          "text": [
            "2607/2607 [==============================] - 10s 4ms/step - loss: 0.0000e+00 - accuracy: 0.2183\n",
            "\n",
            "\n",
            "Test Loss 0.0, Test Accuracy 0.21833525598049164\n"
          ],
          "name": "stdout"
        }
      ]
    },
    {
      "cell_type": "markdown",
      "metadata": {
        "id": "OOl5LOa1UlTg",
        "colab_type": "text"
      },
      "source": [
        "Test accuracy is almost 21.8% which is very low"
      ]
    },
    {
      "cell_type": "code",
      "metadata": {
        "id": "WvSmPlHxUrvG",
        "colab_type": "code",
        "outputId": "70d186c2-a885-4f3e-b197-c83e2406dfd1",
        "colab": {
          "base_uri": "https://localhost:8080/",
          "height": 136
        }
      },
      "source": [
        "predictions = model.predict(test_data)\n",
        "print(predictions)"
      ],
      "execution_count": 31,
      "outputs": [
        {
          "output_type": "stream",
          "text": [
            "[[5.386e+09]\n",
            " [5.305e+09]\n",
            " [5.702e+09]\n",
            " ...\n",
            " [4.960e+09]\n",
            " [5.851e+09]\n",
            " [5.582e+09]]\n"
          ],
          "name": "stdout"
        }
      ]
    },
    {
      "cell_type": "markdown",
      "metadata": {
        "id": "wUpu36N75lf0",
        "colab_type": "text"
      },
      "source": [
        "Confusion Matrix"
      ]
    },
    {
      "cell_type": "code",
      "metadata": {
        "id": "MuewPsdv4M7p",
        "colab_type": "code",
        "colab": {
          "base_uri": "https://localhost:8080/",
          "height": 341
        },
        "outputId": "e080c53c-c1f1-4a9b-c366-a79684901689"
      },
      "source": [
        "df1 = pd.read_csv(test_file_path)\n",
        "cm = metrics.confusion_matrix(df1['injSeverity'], predictions)\n",
        "print(cm)"
      ],
      "execution_count": 36,
      "outputs": [
        {
          "output_type": "error",
          "ename": "ValueError",
          "evalue": "ignored",
          "traceback": [
            "\u001b[0;31m---------------------------------------------------------------------------\u001b[0m",
            "\u001b[0;31mValueError\u001b[0m                                Traceback (most recent call last)",
            "\u001b[0;32m<ipython-input-36-e6a538e077f5>\u001b[0m in \u001b[0;36m<module>\u001b[0;34m()\u001b[0m\n\u001b[1;32m      1\u001b[0m \u001b[0mdf1\u001b[0m \u001b[0;34m=\u001b[0m \u001b[0mpd\u001b[0m\u001b[0;34m.\u001b[0m\u001b[0mread_csv\u001b[0m\u001b[0;34m(\u001b[0m\u001b[0mtest_file_path\u001b[0m\u001b[0;34m)\u001b[0m\u001b[0;34m\u001b[0m\u001b[0;34m\u001b[0m\u001b[0m\n\u001b[0;32m----> 2\u001b[0;31m \u001b[0mcm\u001b[0m \u001b[0;34m=\u001b[0m \u001b[0mmetrics\u001b[0m\u001b[0;34m.\u001b[0m\u001b[0mconfusion_matrix\u001b[0m\u001b[0;34m(\u001b[0m\u001b[0mdf1\u001b[0m\u001b[0;34m[\u001b[0m\u001b[0;34m'injSeverity'\u001b[0m\u001b[0;34m]\u001b[0m\u001b[0;34m,\u001b[0m \u001b[0mpredictions\u001b[0m\u001b[0;34m)\u001b[0m\u001b[0;34m\u001b[0m\u001b[0;34m\u001b[0m\u001b[0m\n\u001b[0m\u001b[1;32m      3\u001b[0m \u001b[0mprint\u001b[0m\u001b[0;34m(\u001b[0m\u001b[0mcm\u001b[0m\u001b[0;34m)\u001b[0m\u001b[0;34m\u001b[0m\u001b[0;34m\u001b[0m\u001b[0m\n",
            "\u001b[0;32m/usr/local/lib/python3.6/dist-packages/sklearn/metrics/_classification.py\u001b[0m in \u001b[0;36mconfusion_matrix\u001b[0;34m(y_true, y_pred, labels, sample_weight, normalize)\u001b[0m\n\u001b[1;32m    266\u001b[0m \u001b[0;34m\u001b[0m\u001b[0m\n\u001b[1;32m    267\u001b[0m     \"\"\"\n\u001b[0;32m--> 268\u001b[0;31m     \u001b[0my_type\u001b[0m\u001b[0;34m,\u001b[0m \u001b[0my_true\u001b[0m\u001b[0;34m,\u001b[0m \u001b[0my_pred\u001b[0m \u001b[0;34m=\u001b[0m \u001b[0m_check_targets\u001b[0m\u001b[0;34m(\u001b[0m\u001b[0my_true\u001b[0m\u001b[0;34m,\u001b[0m \u001b[0my_pred\u001b[0m\u001b[0;34m)\u001b[0m\u001b[0;34m\u001b[0m\u001b[0;34m\u001b[0m\u001b[0m\n\u001b[0m\u001b[1;32m    269\u001b[0m     \u001b[0;32mif\u001b[0m \u001b[0my_type\u001b[0m \u001b[0;32mnot\u001b[0m \u001b[0;32min\u001b[0m \u001b[0;34m(\u001b[0m\u001b[0;34m\"binary\"\u001b[0m\u001b[0;34m,\u001b[0m \u001b[0;34m\"multiclass\"\u001b[0m\u001b[0;34m)\u001b[0m\u001b[0;34m:\u001b[0m\u001b[0;34m\u001b[0m\u001b[0;34m\u001b[0m\u001b[0m\n\u001b[1;32m    270\u001b[0m         \u001b[0;32mraise\u001b[0m \u001b[0mValueError\u001b[0m\u001b[0;34m(\u001b[0m\u001b[0;34m\"%s is not supported\"\u001b[0m \u001b[0;34m%\u001b[0m \u001b[0my_type\u001b[0m\u001b[0;34m)\u001b[0m\u001b[0;34m\u001b[0m\u001b[0;34m\u001b[0m\u001b[0m\n",
            "\u001b[0;32m/usr/local/lib/python3.6/dist-packages/sklearn/metrics/_classification.py\u001b[0m in \u001b[0;36m_check_targets\u001b[0;34m(y_true, y_pred)\u001b[0m\n\u001b[1;32m     78\u001b[0m     \u001b[0my_pred\u001b[0m \u001b[0;34m:\u001b[0m \u001b[0marray\u001b[0m \u001b[0;32mor\u001b[0m \u001b[0mindicator\u001b[0m \u001b[0mmatrix\u001b[0m\u001b[0;34m\u001b[0m\u001b[0;34m\u001b[0m\u001b[0m\n\u001b[1;32m     79\u001b[0m     \"\"\"\n\u001b[0;32m---> 80\u001b[0;31m     \u001b[0mcheck_consistent_length\u001b[0m\u001b[0;34m(\u001b[0m\u001b[0my_true\u001b[0m\u001b[0;34m,\u001b[0m \u001b[0my_pred\u001b[0m\u001b[0;34m)\u001b[0m\u001b[0;34m\u001b[0m\u001b[0;34m\u001b[0m\u001b[0m\n\u001b[0m\u001b[1;32m     81\u001b[0m     \u001b[0mtype_true\u001b[0m \u001b[0;34m=\u001b[0m \u001b[0mtype_of_target\u001b[0m\u001b[0;34m(\u001b[0m\u001b[0my_true\u001b[0m\u001b[0;34m)\u001b[0m\u001b[0;34m\u001b[0m\u001b[0;34m\u001b[0m\u001b[0m\n\u001b[1;32m     82\u001b[0m     \u001b[0mtype_pred\u001b[0m \u001b[0;34m=\u001b[0m \u001b[0mtype_of_target\u001b[0m\u001b[0;34m(\u001b[0m\u001b[0my_pred\u001b[0m\u001b[0;34m)\u001b[0m\u001b[0;34m\u001b[0m\u001b[0;34m\u001b[0m\u001b[0m\n",
            "\u001b[0;32m/usr/local/lib/python3.6/dist-packages/sklearn/utils/validation.py\u001b[0m in \u001b[0;36mcheck_consistent_length\u001b[0;34m(*arrays)\u001b[0m\n\u001b[1;32m    210\u001b[0m     \u001b[0;32mif\u001b[0m \u001b[0mlen\u001b[0m\u001b[0;34m(\u001b[0m\u001b[0muniques\u001b[0m\u001b[0;34m)\u001b[0m \u001b[0;34m>\u001b[0m \u001b[0;36m1\u001b[0m\u001b[0;34m:\u001b[0m\u001b[0;34m\u001b[0m\u001b[0;34m\u001b[0m\u001b[0m\n\u001b[1;32m    211\u001b[0m         raise ValueError(\"Found input variables with inconsistent numbers of\"\n\u001b[0;32m--> 212\u001b[0;31m                          \" samples: %r\" % [int(l) for l in lengths])\n\u001b[0m\u001b[1;32m    213\u001b[0m \u001b[0;34m\u001b[0m\u001b[0m\n\u001b[1;32m    214\u001b[0m \u001b[0;34m\u001b[0m\u001b[0m\n",
            "\u001b[0;31mValueError\u001b[0m: Found input variables with inconsistent numbers of samples: [13108, 13035]"
          ]
        }
      ]
    }
  ]
}