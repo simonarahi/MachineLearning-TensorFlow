{
  "nbformat": 4,
  "nbformat_minor": 0,
  "metadata": {
    "colab": {
      "name": "paintings_classification.ipynb",
      "provenance": [],
      "authorship_tag": "ABX9TyP0WOQ/7Faac6uRN69wX+sL",
      "include_colab_link": true
    },
    "kernelspec": {
      "name": "python3",
      "display_name": "Python 3"
    }
  },
  "cells": [
    {
      "cell_type": "markdown",
      "metadata": {
        "id": "view-in-github",
        "colab_type": "text"
      },
      "source": [
        "<a href=\"https://colab.research.google.com/github/simonarahi/MachineLearning-TensorFlow/blob/master/paintings_classification.ipynb\" target=\"_parent\"><img src=\"https://colab.research.google.com/assets/colab-badge.svg\" alt=\"Open In Colab\"/></a>"
      ]
    },
    {
      "cell_type": "markdown",
      "metadata": {
        "id": "qTnnUzuGdf4T",
        "colab_type": "text"
      },
      "source": [
        "# **Simona Rahi**"
      ]
    },
    {
      "cell_type": "code",
      "metadata": {
        "id": "dSZh-_HnciBj",
        "colab_type": "code",
        "colab": {}
      },
      "source": [
        "import tensorflow as tf\n",
        "from tensorflow import keras\n",
        "import pandas as pd"
      ],
      "execution_count": 0,
      "outputs": []
    },
    {
      "cell_type": "markdown",
      "metadata": {
        "id": "B-Dkw3HsdmVH",
        "colab_type": "text"
      },
      "source": [
        "Loading in the data"
      ]
    },
    {
      "cell_type": "code",
      "metadata": {
        "id": "gOEjBopqdoGW",
        "colab_type": "code",
        "colab": {}
      },
      "source": [
        ""
      ],
      "execution_count": 0,
      "outputs": []
    }
  ]
}